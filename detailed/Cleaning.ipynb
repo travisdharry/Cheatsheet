{
 "cells": [
  {
   "cell_type": "markdown",
   "metadata": {},
   "source": [
    "# Extract"
   ]
  },
  {
   "cell_type": "code",
   "execution_count": 44,
   "metadata": {},
   "outputs": [],
   "source": [
    "# Use operating system library to get paths\n",
    "import os\n",
    "path_input = os.path.join(os.path.dirname(os.getcwd()), 'data', 'complete.csv')\n",
    "# Read data\n",
    "import pandas as pd\n",
    "df = pd.read_csv(path_input, dtype={'zipcode':str})"
   ]
  },
  {
   "cell_type": "markdown",
   "metadata": {},
   "source": [
    "# Clean"
   ]
  },
  {
   "cell_type": "markdown",
   "metadata": {},
   "source": [
    "#### General Cleaning"
   ]
  },
  {
   "cell_type": "code",
   "execution_count": 12,
   "metadata": {},
   "outputs": [],
   "source": [
    "# Change Certain Values\n",
    "df.loc[df['name']==\"Siphon Coffee\", 'serves_alcohol'] = True\n",
    "\n",
    "# Change values across column\n",
    "df['neighborhood'] = df['neighborhood'].str.replace(\"West U\", \"West University\")\n",
    "\n",
    "# Handle NA Values\n",
    "df.loc[df['zipcode'].isna(), 'zipcode'] = \"Unknown\"\n",
    "df['zipcode'] = df['zipcode'].fillna(value=0)\n",
    "df['zipcode'] = df['zipcode'].fillna(method='ffill')"
   ]
  },
  {
   "cell_type": "markdown",
   "metadata": {},
   "source": [
    "#### Dates"
   ]
  },
  {
   "cell_type": "code",
   "execution_count": 30,
   "metadata": {},
   "outputs": [],
   "source": [
    "# General dates\n",
    "# Import datetime dependencies\n",
    "from datetime import date, datetime\n",
    "from dateutil.relativedelta import *\n",
    "import numpy as np\n",
    "\n",
    "# Convert string to numpy.datetime64 format\n",
    "dateStart = \"2022-04-01\"\n",
    "dateEnd = \"2023-03-31\"\n",
    "dateStart = np.datetime64(dateStart)\n",
    "dateEnd = np.datetime64(dateEnd)\n",
    "\n",
    "# Convert string to datetime.datetime format\n",
    "dateStart = \"4/1/2022\"\n",
    "dateEnd = \"3/31/2023\"\n",
    "dateStart = datetime.strptime(dateStart, '%m/%d/%Y')\n",
    "dateEnd = datetime.strptime(dateEnd, '%m/%d/%Y')\n",
    "\n",
    "# Find today's date\n",
    "today = date.today()"
   ]
  },
  {
   "cell_type": "code",
   "execution_count": 40,
   "metadata": {},
   "outputs": [],
   "source": [
    "# Date columns\n",
    "# Convert from string format to datetime\n",
    "df['dob_datetime'] = pd.to_datetime(df['dob_str'], errors='coerce')\n",
    "\n",
    "# Convert numerical or string column to numpy.datetime64\n",
    "df['dob_datetime'] = pd.to_datetime(df['dob_mmddyy'], errors='coerce')\n",
    "\n",
    "# Convert from Excel format (integer) to datetime\n",
    "import xlrd\n",
    "# Convert df column\n",
    "df.loc[[isinstance(x, int) for x in df['dob_excel']], 'dob_excel'] = [xlrd.xldate_as_datetime(xl_date, 0) for xl_date in df.loc[[isinstance(x, int) for x in df['dob_excel']], 'dob_excel']]\n",
    "df.loc[[isinstance(x, str) for x in df['dob_excel']], 'dob_excel'] = pd.to_datetime(df.loc[[isinstance(x, str) for x in df['dob_excel']], 'dob_excel'])\n",
    "df['dob_excel'] = pd.to_datetime(df['dob_excel'], errors='coerce')"
   ]
  },
  {
   "cell_type": "code",
   "execution_count": 42,
   "metadata": {},
   "outputs": [],
   "source": [
    "# Ages\n",
    "# Import datetime dependencies\n",
    "from datetime import date, datetime\n",
    "from dateutil.relativedelta import *\n",
    "\n",
    "### Convert DOB to Age\n",
    "# Create function to calculate ages based on DoB\n",
    "def findAge(row):\n",
    "    # Use current date or date of service\n",
    "    now = date.today() # row[\"serviceDate\"]\n",
    "    # If data was collected set age based on calculation, else mark NA\n",
    "    if pd.notnull(row[\"dob_datetime\"]):\n",
    "        age = relativedelta(now, row[\"dob_datetime\"]).years\n",
    "    else:\n",
    "        age = np.nan\n",
    "    return age\n",
    "# Apply the function to the df\n",
    "df[\"age\"] = df.apply(findAge, axis=1)"
   ]
  },
  {
   "cell_type": "markdown",
   "metadata": {},
   "source": [
    "#### Incomes"
   ]
  },
  {
   "cell_type": "code",
   "execution_count": null,
   "metadata": {},
   "outputs": [],
   "source": [
    "# If the monthly incomeAnnual is greater than $10k it is probably mistakenly an annual income\n",
    "# To rectify the problem, divide outlier incomes (>$10,000) by 12 to find monthly incomes\n",
    "df.loc[df['incomeMonthly']>10000, 'incomeMonthly'] = df.loc[df['incomeMonthly']>10000, 'incomeMonthly'] / 12\n",
    "# Calculate annual incomes based on monthly income * 12\n",
    "df['incomeAnnual'] = df['incomeMonthly'] * 12\n",
    "\n",
    "# Annual Incomes\n",
    "# If the Annual incomeAnnual is less than $2,500 it is probably mistakenly an annual income\n",
    "# To rectify the problem, multiply outlier incomes (<$2,500) by 12 to find monthly incomes\n",
    "df.loc[df['incomeAnnual']<2500, 'incomeAnnual'] = df.loc[df['incomeAnnual']<2500, 'incomeAnnual'] * 12\n",
    "\n",
    "# Income Bin and Cut\n",
    "incomeBinList = [0, 15000, 30000, 55000, np.inf]\n",
    "df['incomeBracket'] = pd.cut(df['incomeAnnual'], bins=incomeBinList, include_lowest=True)\n",
    "df['incomeBracket'] = df['incomeBracket'].astype('str')"
   ]
  },
  {
   "cell_type": "markdown",
   "metadata": {},
   "source": [
    "#### Zip Codes"
   ]
  },
  {
   "cell_type": "code",
   "execution_count": null,
   "metadata": {},
   "outputs": [],
   "source": [
    "# Select only first five digits of a zip already in string type\n",
    "df['zipcode'] = df['zipcode'].str[:5]\n",
    "# Fill in zeros for 00--- zip codes\n",
    "df['zipcode'] = df['zipcode'].str.zfill(5)\n",
    "\n",
    "# Put in five digit string format from full address\n",
    "df['address_full'] = df['address'] + \" \" + df['city'] + \" \" + df['zipcode']\n",
    "df['homeZip'] = df['address_full'].str[-10:]\n",
    "df['homeZip'] = df['homeZip'].str.extract(r'(\\d{5})')"
   ]
  },
  {
   "cell_type": "markdown",
   "metadata": {},
   "source": [
    "#### Geocoding"
   ]
  },
  {
   "cell_type": "code",
   "execution_count": 32,
   "metadata": {},
   "outputs": [],
   "source": [
    "# Find lat/long of an address using GoogleMaps (requires free-ish API Key from Google Developers site)\n",
    "import googlemaps\n",
    "APIKEY_GOOGLE = os.environ.get('GOOGLEMAPS_API')\n",
    "# Get lats and longs using Google\n",
    "from tqdm import tqdm\n",
    "tqdm.pandas()\n",
    "gmaps = googlemaps.Client(key=APIKEY_GOOGLE)\n",
    "\n",
    "def getgooglegeo(row):\n",
    "    try: \n",
    "        loca = gmaps.geocode(row['address_full'])[0]['geometry']['location']\n",
    "        if loca:\n",
    "            lati = loca['lat']\n",
    "            longi = loca['lng']\n",
    "        else:\n",
    "            lati = \"None\"\n",
    "            longi = \"None\"\n",
    "    except:\n",
    "        lati = \"None\"\n",
    "        longi = \"None\"        \n",
    "    return pd.Series([lati, longi])\n",
    "    \n",
    "df[['latitude', 'longitude']] = df.progress_apply(getgooglegeo, axis=1)"
   ]
  },
  {
   "cell_type": "code",
   "execution_count": null,
   "metadata": {},
   "outputs": [],
   "source": [
    "# Find lat/long of an address using Open Street Maps (less reliable than Google)\n",
    "import pgeocode\n",
    "nomi = pgeocode.Nominatim('us')\n",
    "tqdm.pandas()\n",
    "\n",
    "def getPGEO(row):\n",
    "    loca = nomi.query_postal_code(row['zipcode'])\n",
    "    if loca.latitude:\n",
    "        lati = loca.latitude\n",
    "        longi = loca.longitude\n",
    "    else:\n",
    "        lati = \"None\"\n",
    "        longi = \"None\"\n",
    "    return pd.Series([lati, longi])\n",
    "\n",
    "df[['latitude', 'longitude']] = df.progress_apply(getPGEO, axis=1)"
   ]
  },
  {
   "cell_type": "code",
   "execution_count": null,
   "metadata": {},
   "outputs": [],
   "source": [
    "# Assign to census tract based on address\n",
    "import censusgeocode as cg\n",
    "\n",
    "def assignTract(row):\n",
    "    try:\n",
    "        lati = row['latitude']\n",
    "        longi = row['longitude']\n",
    "        result = cg.coordinates(x=longi, y=lati)['Census Tracts'][0]['GEOID']\n",
    "    except:\n",
    "        result = np.nan\n",
    "    return result\n",
    "\n",
    "# Apply the function\n",
    "df['tract'] = df.progress_apply(assignTract, axis=1)"
   ]
  },
  {
   "cell_type": "code",
   "execution_count": null,
   "metadata": {},
   "outputs": [],
   "source": [
    "# Find distances\n",
    "# Find distances between zip codes\n",
    "import pgeocode\n",
    "dist = pgeocode.GeoDistance('us')\n",
    "# Find the distance from one zip code to another\n",
    "distance = dist.query_postal_code(zipcodeA, zipcodeB)\n",
    "\n",
    "# Find distances between lat/longs\n",
    "import geopy.distance\n",
    "coordsA = (latitudeA, longitudeA)\n",
    "coordsB = (latitudeB, longitudeB)\n",
    "distance = geopy.distance.geodesic(coordsA, coordsB).miles"
   ]
  },
  {
   "cell_type": "markdown",
   "metadata": {},
   "source": [
    "# Filter"
   ]
  },
  {
   "cell_type": "markdown",
   "metadata": {},
   "source": [
    "### Pandas.loc"
   ]
  },
  {
   "cell_type": "code",
   "execution_count": null,
   "metadata": {},
   "outputs": [],
   "source": [
    "# Set conditions\n",
    "cond_equalsTrue = df['serves_coffee']==True\n",
    "cond_equalsValue = df['neighborhood']=='West U'\n",
    "cond_isin = df['neighborhood'].isin(['Montrose', 'Midtown'])\n",
    "cond_notin = ~df['neighborhood'].isin(['Montrose', 'Midtown'])\n",
    "cond_isna = df['serves_coffee'].isna()\n",
    "cond_notna = df['serves_coffee'].notna()\n",
    "cond_isnull = pd.isnull(df['serves_coffee'])\n",
    "cond_notnull = pd.notnull(df['serves_coffee'])\n",
    "cond_isnumer = pd.isnumeric(df['zipcode'])\n",
    "cond_isstring = ~pd.isnumeric(df['zipcode'])\n",
    "\n",
    "# Loc function\n",
    "df.loc[cond_equalsTrue]\n",
    "df.loc[cond_equalsTrue | cond_isin] # or\n",
    "df.loc[(cond_equalsTrue & cond_equalsValue) | cond_isin] # and or"
   ]
  },
  {
   "cell_type": "markdown",
   "metadata": {},
   "source": [
    "### Slicing"
   ]
  },
  {
   "cell_type": "code",
   "execution_count": null,
   "metadata": {},
   "outputs": [],
   "source": [
    "a[start:stop:step] # start through not past stop, by step\n",
    "a[-1]    # last item in the array\n",
    "a[-2:]   # last two items in the array\n",
    "a[:-2]   # everything except the last two items\n",
    "a[::-1]    # all items in the array, reversed\n",
    "a[1::-1]   # the first two items, reversed\n",
    "a[:-3:-1]  # the last two items, reversed\n",
    "a[-3::-1]  # everything except the last two items, reversed"
   ]
  },
  {
   "cell_type": "markdown",
   "metadata": {},
   "source": [
    "# Sort"
   ]
  },
  {
   "cell_type": "code",
   "execution_count": null,
   "metadata": {},
   "outputs": [],
   "source": [
    "# Sorting\n",
    "df = df.sort_values(by='ColA', ascending=True, ignore_index=True)"
   ]
  }
 ],
 "metadata": {
  "kernelspec": {
   "display_name": "base",
   "language": "python",
   "name": "python3"
  },
  "language_info": {
   "codemirror_mode": {
    "name": "ipython",
    "version": 3
   },
   "file_extension": ".py",
   "mimetype": "text/x-python",
   "name": "python",
   "nbconvert_exporter": "python",
   "pygments_lexer": "ipython3",
   "version": "3.10.9"
  },
  "orig_nbformat": 4
 },
 "nbformat": 4,
 "nbformat_minor": 2
}
