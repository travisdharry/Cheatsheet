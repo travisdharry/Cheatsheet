{
 "cells": [
  {
   "cell_type": "markdown",
   "metadata": {},
   "source": [
    "# Extract"
   ]
  },
  {
   "cell_type": "code",
   "execution_count": 24,
   "metadata": {},
   "outputs": [],
   "source": [
    "# Use operating system library to get paths\n",
    "import os\n",
    "path_current = os.getcwd()\n",
    "path_parent = os.path.dirname(path_current)\n",
    "path_data = os.path.join(path_parent, 'data')\n",
    "path_est = os.path.join(path_data, 'establishments.xlsx')\n",
    "path_neigh = os.path.join(path_data, 'neighborhoods.csv')\n",
    "path_output = os.path.join(path_data, 'complete.csv')"
   ]
  },
  {
   "cell_type": "code",
   "execution_count": 25,
   "metadata": {},
   "outputs": [],
   "source": [
    "import pandas as pd\n",
    "coffee = pd.read_excel(path_est, sheet_name='coffee', dtype={'zipcode':str})\n",
    "bars = pd.read_excel(path_est, sheet_name='bars', dtype={'zipcode':str})\n",
    "neighborhoods = pd.read_csv(path_neigh, dtype={'zipcode':str})"
   ]
  },
  {
   "cell_type": "markdown",
   "metadata": {},
   "source": [
    "# Explore"
   ]
  },
  {
   "cell_type": "code",
   "execution_count": null,
   "metadata": {},
   "outputs": [],
   "source": [
    "# Options that allow you to see about df\n",
    "coffee.info()\n",
    "coffee.dtypes\n",
    "coffee.columns\n",
    "len(coffee)\n",
    "coffee.describe()\n",
    "coffee.head(5)\n",
    "coffee.tail(5)"
   ]
  },
  {
   "cell_type": "markdown",
   "metadata": {},
   "source": [
    "# Transform"
   ]
  },
  {
   "cell_type": "code",
   "execution_count": 26,
   "metadata": {},
   "outputs": [],
   "source": [
    "# Clean column names\n",
    "for df in [coffee, bars]:\n",
    "    # Convert column names to ASCII characters\n",
    "    df.columns = [x.encode(\"ascii\", \"ignore\").decode() for x in df.columns]\n",
    "    # Rename columns\n",
    "    df = df.rename(columns={'zip code':'zipcode'})"
   ]
  },
  {
   "cell_type": "code",
   "execution_count": 27,
   "metadata": {},
   "outputs": [],
   "source": [
    "# Change datatype (str, int32, int64, float32, object, categorical)\n",
    "for df in [coffee, bars]:\n",
    "    df = df.astype({'zipcode': str})"
   ]
  },
  {
   "cell_type": "code",
   "execution_count": 28,
   "metadata": {},
   "outputs": [],
   "source": [
    "# Concatenate all rows\n",
    "df = pd.concat([bars, coffee], axis=0, ignore_index=True)"
   ]
  },
  {
   "cell_type": "code",
   "execution_count": 29,
   "metadata": {},
   "outputs": [],
   "source": [
    "# Set values using .loc\n",
    "condition_bar = df['name'].isin(bars['name'])\n",
    "condition_coffee = df['name'].isin(coffee['name'])\n",
    "df.loc[condition_bar, 'serves_alcohol'] = True\n",
    "df.loc[condition_coffee, 'serves_coffee'] = True"
   ]
  },
  {
   "cell_type": "code",
   "execution_count": 30,
   "metadata": {},
   "outputs": [],
   "source": [
    "# Clean values\n",
    "df['zipcode'] = df['zipcode'].str[:5]"
   ]
  },
  {
   "cell_type": "code",
   "execution_count": 31,
   "metadata": {},
   "outputs": [],
   "source": [
    "# Merge different datasets\n",
    "df = df.merge(neighborhoods, how='left', on='zipcode')"
   ]
  },
  {
   "cell_type": "code",
   "execution_count": 32,
   "metadata": {},
   "outputs": [],
   "source": [
    "# Handle duplicates\n",
    "df = df.drop_duplicates(subset='name', ignore_index=True)"
   ]
  },
  {
   "cell_type": "code",
   "execution_count": 33,
   "metadata": {},
   "outputs": [
    {
     "data": {
      "text/html": [
       "<div>\n",
       "<style scoped>\n",
       "    .dataframe tbody tr th:only-of-type {\n",
       "        vertical-align: middle;\n",
       "    }\n",
       "\n",
       "    .dataframe tbody tr th {\n",
       "        vertical-align: top;\n",
       "    }\n",
       "\n",
       "    .dataframe thead th {\n",
       "        text-align: right;\n",
       "    }\n",
       "</style>\n",
       "<table border=\"1\" class=\"dataframe\">\n",
       "  <thead>\n",
       "    <tr style=\"text-align: right;\">\n",
       "      <th></th>\n",
       "      <th>name</th>\n",
       "      <th>dob_str</th>\n",
       "      <th>dob_mmddyy</th>\n",
       "      <th>dob_excel</th>\n",
       "      <th>address</th>\n",
       "      <th>city</th>\n",
       "      <th>zipcode</th>\n",
       "      <th>serves_alcohol</th>\n",
       "      <th>serves_coffee</th>\n",
       "      <th>neighborhood</th>\n",
       "    </tr>\n",
       "  </thead>\n",
       "  <tbody>\n",
       "    <tr>\n",
       "      <th>0</th>\n",
       "      <td>Under the Volcano</td>\n",
       "      <td>September 18, 1989</td>\n",
       "      <td>1989-09-18</td>\n",
       "      <td>32769</td>\n",
       "      <td>2349 Bissonet St</td>\n",
       "      <td>Houston, TX</td>\n",
       "      <td>77005</td>\n",
       "      <td>True</td>\n",
       "      <td>NaN</td>\n",
       "      <td>West U</td>\n",
       "    </tr>\n",
       "    <tr>\n",
       "      <th>1</th>\n",
       "      <td>93 'Til</td>\n",
       "      <td>December 21, 2020</td>\n",
       "      <td>2020-12-21</td>\n",
       "      <td>44186</td>\n",
       "      <td>1601 W Main St</td>\n",
       "      <td>Houston, TX</td>\n",
       "      <td>77006</td>\n",
       "      <td>True</td>\n",
       "      <td>NaN</td>\n",
       "      <td>Montrose</td>\n",
       "    </tr>\n",
       "    <tr>\n",
       "      <th>2</th>\n",
       "      <td>Volcano Room</td>\n",
       "      <td>May 5, 2016</td>\n",
       "      <td>2016-05-05</td>\n",
       "      <td>42495</td>\n",
       "      <td>4650 E NASA Pkwy</td>\n",
       "      <td>Seabrook, TX</td>\n",
       "      <td>77586</td>\n",
       "      <td>True</td>\n",
       "      <td>NaN</td>\n",
       "      <td>Clear Lake</td>\n",
       "    </tr>\n",
       "    <tr>\n",
       "      <th>3</th>\n",
       "      <td>Double Trouble</td>\n",
       "      <td>December 1, 2010</td>\n",
       "      <td>2010-12-01</td>\n",
       "      <td>40513</td>\n",
       "      <td>3622 Main St</td>\n",
       "      <td>Houston, TX</td>\n",
       "      <td>77002</td>\n",
       "      <td>True</td>\n",
       "      <td>True</td>\n",
       "      <td>Midtown</td>\n",
       "    </tr>\n",
       "    <tr>\n",
       "      <th>4</th>\n",
       "      <td>Ca Phe Phin</td>\n",
       "      <td>September 17, 2010</td>\n",
       "      <td>2010-09-17</td>\n",
       "      <td>40438</td>\n",
       "      <td>1354 E NASA Pkwy</td>\n",
       "      <td>Houston, TX</td>\n",
       "      <td>77058</td>\n",
       "      <td>NaN</td>\n",
       "      <td>True</td>\n",
       "      <td>Clear Lake</td>\n",
       "    </tr>\n",
       "    <tr>\n",
       "      <th>5</th>\n",
       "      <td>Campesino Coffee</td>\n",
       "      <td>November 18, 2016</td>\n",
       "      <td>2016-11-18</td>\n",
       "      <td>42692</td>\n",
       "      <td>2602 Waugh Dr</td>\n",
       "      <td>Houston, TX</td>\n",
       "      <td>77006</td>\n",
       "      <td>NaN</td>\n",
       "      <td>True</td>\n",
       "      <td>Montrose</td>\n",
       "    </tr>\n",
       "    <tr>\n",
       "      <th>6</th>\n",
       "      <td>Siphon Coffee</td>\n",
       "      <td>May 23, 2014</td>\n",
       "      <td>2014-05-23</td>\n",
       "      <td>41782</td>\n",
       "      <td>701 W Alabama St</td>\n",
       "      <td>Houston, TX</td>\n",
       "      <td>77006</td>\n",
       "      <td>NaN</td>\n",
       "      <td>True</td>\n",
       "      <td>Montrose</td>\n",
       "    </tr>\n",
       "  </tbody>\n",
       "</table>\n",
       "</div>"
      ],
      "text/plain": [
       "                name             dob_str dob_mmddyy  dob_excel  \\\n",
       "0  Under the Volcano  September 18, 1989 1989-09-18      32769   \n",
       "1            93 'Til   December 21, 2020 2020-12-21      44186   \n",
       "2       Volcano Room         May 5, 2016 2016-05-05      42495   \n",
       "3     Double Trouble    December 1, 2010 2010-12-01      40513   \n",
       "4        Ca Phe Phin  September 17, 2010 2010-09-17      40438   \n",
       "5   Campesino Coffee   November 18, 2016 2016-11-18      42692   \n",
       "6      Siphon Coffee        May 23, 2014 2014-05-23      41782   \n",
       "\n",
       "            address          city zipcode serves_alcohol serves_coffee  \\\n",
       "0  2349 Bissonet St   Houston, TX   77005           True           NaN   \n",
       "1    1601 W Main St   Houston, TX   77006           True           NaN   \n",
       "2  4650 E NASA Pkwy  Seabrook, TX   77586           True           NaN   \n",
       "3      3622 Main St   Houston, TX   77002           True          True   \n",
       "4  1354 E NASA Pkwy   Houston, TX   77058            NaN          True   \n",
       "5     2602 Waugh Dr   Houston, TX   77006            NaN          True   \n",
       "6  701 W Alabama St   Houston, TX   77006            NaN          True   \n",
       "\n",
       "  neighborhood  \n",
       "0       West U  \n",
       "1     Montrose  \n",
       "2   Clear Lake  \n",
       "3      Midtown  \n",
       "4   Clear Lake  \n",
       "5     Montrose  \n",
       "6     Montrose  "
      ]
     },
     "execution_count": 33,
     "metadata": {},
     "output_type": "execute_result"
    }
   ],
   "source": [
    "df"
   ]
  },
  {
   "cell_type": "markdown",
   "metadata": {},
   "source": [
    "# Load"
   ]
  },
  {
   "cell_type": "code",
   "execution_count": 34,
   "metadata": {},
   "outputs": [],
   "source": [
    "# CSV\n",
    "df.to_csv(path_output, index=False)"
   ]
  },
  {
   "cell_type": "code",
   "execution_count": null,
   "metadata": {},
   "outputs": [],
   "source": [
    "# Excel\n",
    "with pd.ExcelWriter('Results.xlsx') as writer:  \n",
    "    resultA.to_excel(writer, sheet_name=\"resultA\")\n",
    "    resultB.to_excel(writer, sheet_name=\"resultB\")"
   ]
  }
 ],
 "metadata": {
  "kernelspec": {
   "display_name": "base",
   "language": "python",
   "name": "python3"
  },
  "language_info": {
   "codemirror_mode": {
    "name": "ipython",
    "version": 3
   },
   "file_extension": ".py",
   "mimetype": "text/x-python",
   "name": "python",
   "nbconvert_exporter": "python",
   "pygments_lexer": "ipython3",
   "version": "3.10.9"
  },
  "orig_nbformat": 4
 },
 "nbformat": 4,
 "nbformat_minor": 2
}
