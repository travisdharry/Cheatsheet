{
 "cells": [
  {
   "attachments": {},
   "cell_type": "markdown",
   "id": "75ea1713",
   "metadata": {},
   "source": [
    "# Data Analysis Cheatsheet (Python)"
   ]
  },
  {
   "attachments": {},
   "cell_type": "markdown",
   "id": "3d8a226c",
   "metadata": {},
   "source": [
    "### Import Dependencies"
   ]
  },
  {
   "cell_type": "code",
   "execution_count": null,
   "id": "ef97e43f",
   "metadata": {},
   "outputs": [],
   "source": [
    "# Import dependencies\n",
    "# Pandas\n",
    "import pandas as pd\n",
    "pd.options.mode.chained_assignment = None\n",
    "from pandas.api.types import is_string_dtype\n",
    "# Numpy\n",
    "import numpy as np\n",
    "# Dates\n",
    "from datetime import date\n",
    "from dateutil.relativedelta import *\n"
   ]
  },
  {
   "attachments": {},
   "cell_type": "markdown",
   "id": "6ebe05d9",
   "metadata": {},
   "source": [
    "### Extract"
   ]
  },
  {
   "cell_type": "code",
   "execution_count": null,
   "id": "5e2514c6",
   "metadata": {},
   "outputs": [],
   "source": [
    "# Read file\n",
    "filepath = r'C:\\Desktop\\Data_Analysis\\Cheatsheet.xlsx'\n",
    "df = pd.read_excel(filepath, sheet_name=\"Sheet1\")\n",
    "\n",
    "# Read a text string to DataFrame\n",
    "df = pd.read_csv(StringIO(csvString), sep=\",\")"
   ]
  },
  {
   "attachments": {},
   "cell_type": "markdown",
   "id": "ed43da6f",
   "metadata": {},
   "source": [
    "### Explore"
   ]
  },
  {
   "cell_type": "code",
   "execution_count": null,
   "id": "15db9449",
   "metadata": {},
   "outputs": [],
   "source": [
    "df.info()\n",
    "df.dtypes\n",
    "df.columns\n",
    "len(df)\n",
    "df.describe()\n",
    "df.head(5)\n",
    "df.tail(5)"
   ]
  },
  {
   "attachments": {},
   "cell_type": "markdown",
   "id": "0990ce67",
   "metadata": {},
   "source": [
    "### Transform"
   ]
  },
  {
   "cell_type": "code",
   "execution_count": null,
   "id": "307f2d82",
   "metadata": {},
   "outputs": [],
   "source": [
    "# Concatenate\n",
    "dfC = pd.concat([dfA, dfB], ignore_index=False)"
   ]
  },
  {
   "attachments": {},
   "cell_type": "markdown",
   "id": "7b6babb4",
   "metadata": {},
   "source": [
    "### Filters and Tests"
   ]
  },
  {
   "cell_type": "code",
   "execution_count": null,
   "id": "14cb050e",
   "metadata": {},
   "outputs": [],
   "source": [
    "# General Filters\n",
    "df.query('ColA > ColB')\n",
    "df.query('ColA == 10')\n",
    "df.query('ColA == @varName')\n",
    "df.query('colA == 10 and ColB == 11')\n",
    "df.loc[df['ColA']==10]\n",
    "df.loc[(df['ColA']==10) & (df['ColB']==11)]\n",
    "\n",
    "# Sorting\n",
    "df = df.sort_values(by='ColA', ascending=True)\n",
    "\n",
    "# Tests\n",
    "# Isin / Notin\n",
    "df.loc[df['ColA'].isin(df['ColB'])]\n",
    "df.loc[~df['ColA'].isin(df['ColB'])]\n",
    "# isna / notna\n",
    "test.isna()\n",
    "test.notna()\n",
    "df.loc[df['ColA'].isna()]\n",
    "df.loc[df['ColA'].notna()]\n",
    "# Null / NotNull\n",
    "pd.isnull(test)\n",
    "pd.notnull(test)\n",
    "df.loc[pd.isnull(df['ColA'])]\n",
    "df.loc[pd.notnull(df['ColA'])]\n",
    "# is string type"
   ]
  },
  {
   "attachments": {},
   "cell_type": "markdown",
   "id": "5e1b1ade",
   "metadata": {},
   "source": [
    "### Slicing"
   ]
  },
  {
   "cell_type": "code",
   "execution_count": null,
   "id": "e6b23bb0",
   "metadata": {},
   "outputs": [],
   "source": [
    "a[start:stop:step] # start through not past stop, by step\n",
    "a[-1]    # last item in the array\n",
    "a[-2:]   # last two items in the array\n",
    "a[:-2]   # everything except the last two items\n",
    "a[::-1]    # all items in the array, reversed\n",
    "a[1::-1]   # the first two items, reversed\n",
    "a[:-3:-1]  # the last two items, reversed\n",
    "a[-3::-1]  # everything except the last two items, reversed"
   ]
  },
  {
   "attachments": {},
   "cell_type": "markdown",
   "id": "ff8b581e",
   "metadata": {},
   "source": [
    "### Clean Data - General"
   ]
  },
  {
   "cell_type": "code",
   "execution_count": null,
   "id": "2801508b",
   "metadata": {},
   "outputs": [],
   "source": [
    "# Change datatype ('int32', 'int64', 'float32', 'object', 'categorical')\n",
    "df.astype({'ColA': 'int32'})\n",
    "df['ColA'].astype('int32')\n",
    "stringFormat = str(Value1)\n",
    "\n",
    "# Deduplicate\n",
    "df = df.drop_duplicates(subset='ColA', keep='first', ignore_index=True)\n",
    "\n",
    "# Change Certain Values\n",
    "df.loc[df['ColA'] == \"Value1\", 'ColA'] = \"Value2\"\n",
    "string = \"Value&\".replace(\"&\", \"\")\n",
    "\n",
    "# Handle NA Values\n",
    "df.loc[df['ColA'].isna(), 'ColA'] = \"Value2\"\n",
    "df['ColA'].fillna(value=0)\n",
    "df['ColA'].fillna(method='ffill')\n"
   ]
  },
  {
   "attachments": {},
   "cell_type": "markdown",
   "id": "b79ea351",
   "metadata": {},
   "source": [
    "### Analyze Data"
   ]
  },
  {
   "cell_type": "code",
   "execution_count": null,
   "id": "a36eaff9",
   "metadata": {},
   "outputs": [],
   "source": [
    "# Groupby\n",
    "dfB = dfA.groupby('ColumnToGroup')[\"ColumnToCount\"].count()\n",
    "\n",
    "# Bin and Cut\n",
    "binList = [0, 5000, 10000, 25000, 50000, np.inf]\n",
    "df['BinCategory'] = pd.cut(df['ColA'], bins=binList, include_lowest=True)\n",
    "result = df.groupby('BinCategory')['ClientID'].count()"
   ]
  },
  {
   "attachments": {},
   "cell_type": "markdown",
   "id": "85a6ed6c",
   "metadata": {},
   "source": [
    "### Export Data"
   ]
  },
  {
   "cell_type": "code",
   "execution_count": null,
   "id": "4e041e61",
   "metadata": {},
   "outputs": [],
   "source": [
    "# Export to Excel file\n",
    "with pd.ExcelWriter('Results.xlsx') as writer:  \n",
    "    resultA.to_excel(writer, sheet_name=\"resultA\")\n",
    "    resultB.to_excel(writer, sheet_name=\"resultB\")\n",
    "\n",
    "# Export to CSV\n",
    "df.to_csv('filepath')"
   ]
  },
  {
   "attachments": {},
   "cell_type": "markdown",
   "id": "cd06f044",
   "metadata": {},
   "source": [
    "## Specific Analysis Cases"
   ]
  },
  {
   "attachments": {},
   "cell_type": "markdown",
   "id": "eeff2b49",
   "metadata": {},
   "source": [
    "#### Zip Codes"
   ]
  },
  {
   "cell_type": "code",
   "execution_count": null,
   "id": "132bf1f0",
   "metadata": {},
   "outputs": [],
   "source": [
    "# Convert floats to string\n",
    "df['homeZip'] = df['homeZip'].astype('str')\n",
    "df['homeZip'] = df['homeZip'].str[:5]\n",
    "\n",
    "# Put in five digit string format from full address\n",
    "df['homeZip'] = df['FullAddress'].str[-10:]\n",
    "df['homeZip'] = df['homeZip'].str.extract(r'(\\d{5})')\n",
    "# Put in five digit string format\n",
    "df[\"homeZip\"] = [(f'{x:g}').zfill(5) for x in df[\"Zip\"]]"
   ]
  },
  {
   "attachments": {},
   "cell_type": "markdown",
   "id": "f5147169",
   "metadata": {},
   "source": [
    "#### Incomes"
   ]
  },
  {
   "cell_type": "code",
   "execution_count": null,
   "id": "ad04100a",
   "metadata": {},
   "outputs": [],
   "source": [
    "# If the monthly incomeAnnual is greater than $10k it is probably mistakenly an annual income\n",
    "# To rectify the problem, divide outlier incomes (>$10,000) by 12 to find monthly incomes\n",
    "df.loc[df['incomeMonthly']>10000, 'incomeMonthly'] = df.loc[df['incomeMonthly']>10000, 'incomeMonthly'] / 12\n",
    "# Calculate annual incomes based on monthly income * 12\n",
    "df['incomeAnnual'] = df['incomeMonthly'] * 12\n",
    "\n",
    "# Annual Incomes\n",
    "# If the Annual incomeAnnual is less than $2,500 it is probably mistakenly an annual income\n",
    "# To rectify the problem, multiply outlier incomes (<$2,500) by 12 to find monthly incomes\n",
    "df.loc[df['incomeAnnual']<2500, 'incomeAnnual'] = df.loc[df['incomeAnnual']<2500, 'incomeAnnual'] * 12\n",
    "\n",
    "# Income Bin and Cut\n",
    "incomeBinList = [0, 15000, 30000, 55000, np.inf]\n",
    "df['incomeBracket'] = pd.cut(df['incomeAnnual'], bins=incomeBinList, include_lowest=True)\n",
    "df['incomeBracket'] = df['incomeBracket'].astype('str')"
   ]
  },
  {
   "attachments": {},
   "cell_type": "markdown",
   "id": "c2de6a5a",
   "metadata": {},
   "source": [
    "#### Dates"
   ]
  },
  {
   "cell_type": "code",
   "execution_count": null,
   "id": "077e7130",
   "metadata": {},
   "outputs": [],
   "source": [
    "# Import dependencies\n",
    "from datetime import date\n",
    "from dateutil.relativedelta import *\n",
    "\n",
    "# Convert string to datetime\n",
    "df['Date'] = pd.to_datetime(df['Date'])\n",
    "\n",
    "# Convert string to datetime64 datatype\n",
    "dateStart = np.datetime64(dateStart)\n",
    "dateEnd = np.datetime64(dateEnd)\n",
    "\n",
    "# Find today's date\n",
    "today = date.today()\n",
    "\n",
    "### Convert DOB to Age (based on date of service)\n",
    "# Create function to calculate ages based on DoB\n",
    "def findAge(row):\n",
    "    # Check if there was data collected. If not, mark unknowns as NaN\n",
    "    ageValue = np.nan\n",
    "    if pd.notnull(row[\"dob\"]):\n",
    "        # If data was collected, set value based on calculation\n",
    "        ageValue = relativedelta(row[\"serviceDate\"], row[\"dob\"]).years\n",
    "    return ageValue\n",
    "# Apply the function to the df\n",
    "df[\"age\"] = df.apply(findAge, axis=1)\n",
    "\n",
    "### Convert DOB to Age (based on current date)\n",
    "# Create function to calculate ages based on DoB\n",
    "def findAge(DOB):\n",
    "    # Find today's date\n",
    "    today = date.today()\n",
    "    # Check if there was data collected. If not, mark unknowns as NaN\n",
    "    ageValue = np.nan\n",
    "    if pd.notnull(DOB):\n",
    "        # If data was collected, set value based on calculation\n",
    "        ageValue = relativedelta(today, DOB).years\n",
    "    return ageValue\n",
    "# Apply the function to the df\n",
    "df[\"age\"] = df['dob'].apply(findAge)"
   ]
  }
 ],
 "metadata": {
  "kernelspec": {
   "display_name": "Python 3.8.12 ('PythonData')",
   "language": "python",
   "name": "python3"
  },
  "language_info": {
   "codemirror_mode": {
    "name": "ipython",
    "version": 3
   },
   "file_extension": ".py",
   "mimetype": "text/x-python",
   "name": "python",
   "nbconvert_exporter": "python",
   "pygments_lexer": "ipython3",
   "version": "3.8.12 (default, Oct 12 2021, 03:01:40) [MSC v.1916 64 bit (AMD64)]"
  },
  "vscode": {
   "interpreter": {
    "hash": "22857fc3329db8a2120715df052c446feb81728e8daa7433c39a4ae914ffd76b"
   }
  }
 },
 "nbformat": 4,
 "nbformat_minor": 5
}
